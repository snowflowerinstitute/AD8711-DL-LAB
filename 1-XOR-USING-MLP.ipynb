{
 "cells": [
  {
   "cell_type": "code",
   "execution_count": 1,
   "metadata": {
    "collapsed": true,
    "ExecuteTime": {
     "end_time": "2023-07-27T16:23:30.029226400Z",
     "start_time": "2023-07-27T16:23:27.570416700Z"
    }
   },
   "outputs": [],
   "source": [
    "from keras.models import Sequential\n",
    "from keras.layers import Dense\n",
    "import tensorflow as tf\n",
    "tf.random.set_seed(69)"
   ]
  },
  {
   "cell_type": "code",
   "execution_count": 2,
   "outputs": [],
   "source": [
    "X = [[0, 0], [0, 1], [1, 0], [1, 1]]\n",
    "y = [[0], [1], [1], [0]]"
   ],
   "metadata": {
    "collapsed": false,
    "ExecuteTime": {
     "end_time": "2023-07-27T16:23:30.040066300Z",
     "start_time": "2023-07-27T16:23:30.030948600Z"
    }
   }
  },
  {
   "cell_type": "code",
   "execution_count": 3,
   "outputs": [],
   "source": [
    "model = Sequential([\n",
    "    Dense(4, input_dim=2, activation='relu'),\n",
    "    Dense(1, activation='sigmoid')\n",
    "])\n",
    "\n",
    "model.compile(loss='binary_crossentropy',\n",
    "              optimizer='adam',\n",
    "              metrics=['accuracy'])"
   ],
   "metadata": {
    "collapsed": false,
    "ExecuteTime": {
     "end_time": "2023-07-27T16:23:30.173667700Z",
     "start_time": "2023-07-27T16:23:30.032955400Z"
    }
   }
  },
  {
   "cell_type": "code",
   "execution_count": 4,
   "outputs": [
    {
     "name": "stdout",
     "output_type": "stream",
     "text": [
      "Loss: 0.30, Accuracy: 1.00\n"
     ]
    }
   ],
   "source": [
    "model.fit(X, y, epochs=2000, verbose=0)\n",
    "\n",
    "loss, accuracy = model.evaluate(X, y, verbose=0)\n",
    "print(f\"Loss: {loss:.2f}, Accuracy: {accuracy:.2f}\")"
   ],
   "metadata": {
    "collapsed": false,
    "ExecuteTime": {
     "end_time": "2023-07-27T16:24:22.106051400Z",
     "start_time": "2023-07-27T16:23:30.174669100Z"
    }
   }
  },
  {
   "cell_type": "code",
   "execution_count": 5,
   "outputs": [
    {
     "name": "stdout",
     "output_type": "stream",
     "text": [
      "Input\tOutput\n",
      "[0, 0]\t0\n",
      "[0, 1]\t1\n",
      "[1, 0]\t1\n",
      "[1, 1]\t0\n"
     ]
    }
   ],
   "source": [
    "y_pred = (model.predict(X, verbose=0) > 0.5).astype(\"int32\")\n",
    "print(\"Input\\tOutput\")\n",
    "for i in range(len(X)):\n",
    "    print(f\"{X[i]}\\t{y_pred[i][0]}\")"
   ],
   "metadata": {
    "collapsed": false,
    "ExecuteTime": {
     "end_time": "2023-07-27T16:24:22.198293600Z",
     "start_time": "2023-07-27T16:24:22.101507700Z"
    }
   }
  }
 ],
 "metadata": {
  "kernelspec": {
   "display_name": "Python 3",
   "language": "python",
   "name": "python3"
  },
  "language_info": {
   "codemirror_mode": {
    "name": "ipython",
    "version": 2
   },
   "file_extension": ".py",
   "mimetype": "text/x-python",
   "name": "python",
   "nbconvert_exporter": "python",
   "pygments_lexer": "ipython2",
   "version": "2.7.6"
  }
 },
 "nbformat": 4,
 "nbformat_minor": 0
}
