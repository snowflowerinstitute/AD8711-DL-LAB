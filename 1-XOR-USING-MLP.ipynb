{
 "cells": [
  {
   "cell_type": "code",
   "execution_count": 1,
   "metadata": {
    "collapsed": true,
    "ExecuteTime": {
     "end_time": "2023-09-07T16:17:02.913335800Z",
     "start_time": "2023-09-07T16:17:00.869436700Z"
    }
   },
   "outputs": [],
   "source": [
    "import tensorflow as tf\n",
    "tf.random.set_seed(69)"
   ]
  },
  {
   "cell_type": "code",
   "execution_count": 2,
   "outputs": [],
   "source": [
    "X = tf.convert_to_tensor([[0, 0], [0, 1], [1, 0], [1, 1]],)\n",
    "y = tf.one_hot([0, 1, 1, 0], depth=2,)"
   ],
   "metadata": {
    "collapsed": false,
    "ExecuteTime": {
     "end_time": "2023-09-07T16:17:02.930877Z",
     "start_time": "2023-09-07T16:17:02.914336600Z"
    }
   }
  },
  {
   "cell_type": "code",
   "execution_count": 3,
   "outputs": [],
   "source": [
    "model = tf.keras.models.Sequential([\n",
    "    tf.keras.layers.Dense(16, input_dim=2, activation='relu'),\n",
    "    tf.keras.layers.Dense(2, activation='softmax')\n",
    "])\n",
    "\n",
    "model.compile(loss='binary_crossentropy',\n",
    "              optimizer='adam',\n",
    "              metrics=['accuracy'])"
   ],
   "metadata": {
    "collapsed": false,
    "ExecuteTime": {
     "end_time": "2023-09-07T16:17:03.036813100Z",
     "start_time": "2023-09-07T16:17:02.931875100Z"
    }
   }
  },
  {
   "cell_type": "code",
   "execution_count": 4,
   "outputs": [
    {
     "name": "stdout",
     "output_type": "stream",
     "text": [
      "Loss: 0.50, Accuracy: 1.00\n"
     ]
    }
   ],
   "source": [
    "model.fit(X, y, epochs=300, verbose=0)\n",
    "\n",
    "loss, accuracy = model.evaluate(X, y, verbose=0)\n",
    "print(f\"Loss: {loss:.2f}, Accuracy: {accuracy:.2f}\")"
   ],
   "metadata": {
    "collapsed": false,
    "ExecuteTime": {
     "end_time": "2023-09-07T16:17:03.961735200Z",
     "start_time": "2023-09-07T16:17:03.037812500Z"
    }
   }
  },
  {
   "cell_type": "code",
   "execution_count": 5,
   "outputs": [
    {
     "name": "stdout",
     "output_type": "stream",
     "text": [
      "X\t\tPredicted\n",
      "[0 0]\t\t0\n",
      "[0 1]\t\t1\n",
      "[1 0]\t\t1\n",
      "[1 1]\t\t0\n"
     ]
    }
   ],
   "source": [
    "y_pred = model.predict(X, verbose=0)\n",
    "y_pred = tf.argmax(y_pred, axis=1)\n",
    "print(\"X\", \"Predicted\", sep='\\t\\t')\n",
    "for i, p in enumerate(y_pred):\n",
    "    print(f\"{X[i]}\", f\"{p}\", sep='\\t\\t')"
   ],
   "metadata": {
    "collapsed": false,
    "ExecuteTime": {
     "end_time": "2023-09-07T16:17:04.035366900Z",
     "start_time": "2023-09-07T16:17:03.960230500Z"
    }
   }
  }
 ],
 "metadata": {
  "kernelspec": {
   "display_name": "Python 3",
   "language": "python",
   "name": "python3"
  },
  "language_info": {
   "codemirror_mode": {
    "name": "ipython",
    "version": 2
   },
   "file_extension": ".py",
   "mimetype": "text/x-python",
   "name": "python",
   "nbconvert_exporter": "python",
   "pygments_lexer": "ipython2",
   "version": "2.7.6"
  }
 },
 "nbformat": 4,
 "nbformat_minor": 0
}
